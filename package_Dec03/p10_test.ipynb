{
 "cells": [
  {
   "cell_type": "markdown",
   "metadata": {},
   "source": [
    "# データの整形"
   ]
  },
  {
   "cell_type": "code",
   "execution_count": 14,
   "metadata": {},
   "outputs": [],
   "source": [
    "import p01_CellSorter_Data"
   ]
  },
  {
   "cell_type": "code",
   "execution_count": 15,
   "metadata": {},
   "outputs": [],
   "source": [
    "p01 = p01_CellSorter_Data.FlowCytometryProcessor(\n",
    "    stations=[1,4,8], \n",
    "    base_path=\"/Users/henmi_note/Desktop/CellSorter/CellSorter_rawdata\", \n",
    "    return_TIME=False\n",
    ")"
   ]
  },
  {
   "cell_type": "code",
   "execution_count": 16,
   "metadata": {},
   "outputs": [
    {
     "name": "stdout",
     "output_type": "stream",
     "text": [
      "Station 1, File: /Users/henmi_note/Desktop/CellSorter/CellSorter_rawdata/2024-05-24/user1_Experiment 2024_05_24 142307_Sample Group - 1_s1-10_Data Source - 1.csv - Dropped: 0.90\n",
      "Station 1, File: /Users/henmi_note/Desktop/CellSorter/CellSorter_rawdata/2024-06-11/user1_Experiment 2024_06_11 112644_Sample Group - 1_s1-10-0610_Data Source - 1.csv - Dropped: 0.91\n",
      "Station 1, File: /Users/henmi_note/Desktop/CellSorter/CellSorter_rawdata/2024-07-05/user1_Experiment 2024_07_05 132718_Sample Group - 1_s1-10_Data Source - 1.csv - Dropped: 0.89\n",
      "Station 1, File: /Users/henmi_note/Desktop/CellSorter/CellSorter_rawdata/2024-08-06/user1_Experiment 2024_08_06 104937_Sample Group - 1_s1-10_Data Source - 1.csv - Dropped: 0.89\n",
      "Station 1, File: /Users/henmi_note/Desktop/CellSorter/CellSorter_rawdata/2024-11-13/user1_Experiment 2024_11_13 101120_Sample Group - 1_s1_Data Source - 1_renamed.csv - Dropped: 0.89\n",
      "Station 4, File: /Users/henmi_note/Desktop/CellSorter/CellSorter_rawdata/2024-05-24/user1_Experiment 2024_05_24 142307_Sample Group - 1_s4-10_Data Source - 1.csv - Dropped: 0.91\n",
      "Station 4, File: /Users/henmi_note/Desktop/CellSorter/CellSorter_rawdata/2024-06-11/user1_Experiment 2024_06_11 112644_Sample Group - 1_s4-10-0610_Data Source - 1.csv - Dropped: 0.91\n",
      "Station 4, File: /Users/henmi_note/Desktop/CellSorter/CellSorter_rawdata/2024-07-05/user1_Experiment 2024_07_05 132718_Sample Group - 1_s4-10_Data Source - 1.csv - Dropped: 0.89\n",
      "Station 4, File: /Users/henmi_note/Desktop/CellSorter/CellSorter_rawdata/2024-08-06/user1_Experiment 2024_08_06 104937_Sample Group - 1_s4-10_Data Source - 1.csv - Dropped: 0.89\n",
      "Station 4, File: /Users/henmi_note/Desktop/CellSorter/CellSorter_rawdata/2024-11-13/user1_Experiment 2024_11_13 101120_Sample Group - 1_s4_Data Source - 1_All Events_renamed.csv - Dropped: 0.89\n",
      "Station 8, File: /Users/henmi_note/Desktop/CellSorter/CellSorter_rawdata/2024-05-24/user1_Experiment 2024_05_24 142307_Sample Group - 1_s8-10_Data Source - 1.csv - Dropped: 0.91\n",
      "Station 8, File: /Users/henmi_note/Desktop/CellSorter/CellSorter_rawdata/2024-06-11/user1_Experiment 2024_06_11 112644_Sample Group - 1_s8-10-0610_Data Source - 1.csv - Dropped: 0.89\n",
      "Station 8, File: /Users/henmi_note/Desktop/CellSorter/CellSorter_rawdata/2024-07-05/user1_Experiment 2024_07_05 132718_Sample Group - 1_s8-10_Data Source - 1.csv - Dropped: 0.89\n",
      "Station 8, File: /Users/henmi_note/Desktop/CellSorter/CellSorter_rawdata/2024-08-06/user1_Experiment 2024_08_06 104937_Sample Group - 1_s8-10 _Data Source - 1.csv - Dropped: 0.89\n",
      "Station 8, File: /Users/henmi_note/Desktop/CellSorter/CellSorter_rawdata/2024-11-13/user1_Experiment 2024_11_13 101120_Sample Group - 1_s8_Data Source - 1_renamed.csv - Dropped: 0.90\n",
      "\n"
     ]
    }
   ],
   "source": [
    "data = p01.process_all()"
   ]
  },
  {
   "cell_type": "code",
   "execution_count": 38,
   "metadata": {},
   "outputs": [
    {
     "data": {
      "text/html": [
       "<div>\n",
       "<style scoped>\n",
       "    .dataframe tbody tr th:only-of-type {\n",
       "        vertical-align: middle;\n",
       "    }\n",
       "\n",
       "    .dataframe tbody tr th {\n",
       "        vertical-align: top;\n",
       "    }\n",
       "\n",
       "    .dataframe thead th {\n",
       "        text-align: right;\n",
       "    }\n",
       "</style>\n",
       "<table border=\"1\" class=\"dataframe\">\n",
       "  <thead>\n",
       "    <tr style=\"text-align: right;\">\n",
       "      <th></th>\n",
       "      <th>FSC-A</th>\n",
       "      <th>BSC-A</th>\n",
       "      <th>FITC-A-Compensated</th>\n",
       "      <th>PE-A-Compensated</th>\n",
       "      <th>PI-A-Compensated</th>\n",
       "      <th>APC-A-Compensated</th>\n",
       "      <th>PerCP-Cy5.5-A-Compensated</th>\n",
       "      <th>PE-Cy7-A-Compensated</th>\n",
       "      <th>DATE</th>\n",
       "      <th>STATION_label</th>\n",
       "      <th>ward</th>\n",
       "    </tr>\n",
       "  </thead>\n",
       "  <tbody>\n",
       "    <tr>\n",
       "      <th>0</th>\n",
       "      <td>4.935901</td>\n",
       "      <td>2.973378</td>\n",
       "      <td>0.112051</td>\n",
       "      <td>0.094387</td>\n",
       "      <td>0.188352</td>\n",
       "      <td>0.613157</td>\n",
       "      <td>0.584953</td>\n",
       "      <td>0.447269</td>\n",
       "      <td>2024-05-24</td>\n",
       "      <td>1</td>\n",
       "      <td>2024-05-s1</td>\n",
       "    </tr>\n",
       "    <tr>\n",
       "      <th>1</th>\n",
       "      <td>4.817196</td>\n",
       "      <td>3.828567</td>\n",
       "      <td>0.147545</td>\n",
       "      <td>0.141615</td>\n",
       "      <td>0.175614</td>\n",
       "      <td>0.127807</td>\n",
       "      <td>0.218026</td>\n",
       "      <td>0.150366</td>\n",
       "      <td>2024-05-24</td>\n",
       "      <td>1</td>\n",
       "      <td>2024-05-s1</td>\n",
       "    </tr>\n",
       "    <tr>\n",
       "      <th>2</th>\n",
       "      <td>5.161297</td>\n",
       "      <td>4.060008</td>\n",
       "      <td>0.396137</td>\n",
       "      <td>0.384756</td>\n",
       "      <td>0.415069</td>\n",
       "      <td>0.713818</td>\n",
       "      <td>0.701033</td>\n",
       "      <td>0.579645</td>\n",
       "      <td>2024-05-24</td>\n",
       "      <td>1</td>\n",
       "      <td>2024-05-s1</td>\n",
       "    </tr>\n",
       "    <tr>\n",
       "      <th>3</th>\n",
       "      <td>5.313388</td>\n",
       "      <td>3.406636</td>\n",
       "      <td>0.179266</td>\n",
       "      <td>0.202637</td>\n",
       "      <td>0.225900</td>\n",
       "      <td>0.686907</td>\n",
       "      <td>0.674077</td>\n",
       "      <td>0.535217</td>\n",
       "      <td>2024-05-24</td>\n",
       "      <td>1</td>\n",
       "      <td>2024-05-s1</td>\n",
       "    </tr>\n",
       "    <tr>\n",
       "      <th>4</th>\n",
       "      <td>5.319643</td>\n",
       "      <td>4.491780</td>\n",
       "      <td>0.268642</td>\n",
       "      <td>0.231968</td>\n",
       "      <td>0.199751</td>\n",
       "      <td>0.437100</td>\n",
       "      <td>0.430082</td>\n",
       "      <td>0.314453</td>\n",
       "      <td>2024-05-24</td>\n",
       "      <td>1</td>\n",
       "      <td>2024-05-s1</td>\n",
       "    </tr>\n",
       "    <tr>\n",
       "      <th>...</th>\n",
       "      <td>...</td>\n",
       "      <td>...</td>\n",
       "      <td>...</td>\n",
       "      <td>...</td>\n",
       "      <td>...</td>\n",
       "      <td>...</td>\n",
       "      <td>...</td>\n",
       "      <td>...</td>\n",
       "      <td>...</td>\n",
       "      <td>...</td>\n",
       "      <td>...</td>\n",
       "    </tr>\n",
       "    <tr>\n",
       "      <th>9995</th>\n",
       "      <td>4.950159</td>\n",
       "      <td>3.726249</td>\n",
       "      <td>0.238037</td>\n",
       "      <td>0.193131</td>\n",
       "      <td>0.168490</td>\n",
       "      <td>0.664011</td>\n",
       "      <td>0.654417</td>\n",
       "      <td>0.516460</td>\n",
       "      <td>2024-11-13</td>\n",
       "      <td>8</td>\n",
       "      <td>2024-11-s8</td>\n",
       "    </tr>\n",
       "    <tr>\n",
       "      <th>9996</th>\n",
       "      <td>5.051621</td>\n",
       "      <td>3.256499</td>\n",
       "      <td>0.349543</td>\n",
       "      <td>0.185472</td>\n",
       "      <td>0.225999</td>\n",
       "      <td>0.402173</td>\n",
       "      <td>0.370035</td>\n",
       "      <td>0.258159</td>\n",
       "      <td>2024-11-13</td>\n",
       "      <td>8</td>\n",
       "      <td>2024-11-s8</td>\n",
       "    </tr>\n",
       "    <tr>\n",
       "      <th>9997</th>\n",
       "      <td>4.789524</td>\n",
       "      <td>2.553392</td>\n",
       "      <td>0.189430</td>\n",
       "      <td>0.164250</td>\n",
       "      <td>0.137550</td>\n",
       "      <td>0.607343</td>\n",
       "      <td>0.599220</td>\n",
       "      <td>0.451029</td>\n",
       "      <td>2024-11-13</td>\n",
       "      <td>8</td>\n",
       "      <td>2024-11-s8</td>\n",
       "    </tr>\n",
       "    <tr>\n",
       "      <th>9998</th>\n",
       "      <td>4.975425</td>\n",
       "      <td>4.475022</td>\n",
       "      <td>0.293013</td>\n",
       "      <td>0.229782</td>\n",
       "      <td>0.267030</td>\n",
       "      <td>0.656510</td>\n",
       "      <td>0.644372</td>\n",
       "      <td>0.506078</td>\n",
       "      <td>2024-11-13</td>\n",
       "      <td>8</td>\n",
       "      <td>2024-11-s8</td>\n",
       "    </tr>\n",
       "    <tr>\n",
       "      <th>9999</th>\n",
       "      <td>4.991776</td>\n",
       "      <td>4.016297</td>\n",
       "      <td>0.301724</td>\n",
       "      <td>0.295322</td>\n",
       "      <td>0.287079</td>\n",
       "      <td>0.677052</td>\n",
       "      <td>0.676601</td>\n",
       "      <td>0.548664</td>\n",
       "      <td>2024-11-13</td>\n",
       "      <td>8</td>\n",
       "      <td>2024-11-s8</td>\n",
       "    </tr>\n",
       "  </tbody>\n",
       "</table>\n",
       "<p>142118 rows × 11 columns</p>\n",
       "</div>"
      ],
      "text/plain": [
       "         FSC-A     BSC-A  FITC-A-Compensated  PE-A-Compensated  \\\n",
       "0     4.935901  2.973378            0.112051          0.094387   \n",
       "1     4.817196  3.828567            0.147545          0.141615   \n",
       "2     5.161297  4.060008            0.396137          0.384756   \n",
       "3     5.313388  3.406636            0.179266          0.202637   \n",
       "4     5.319643  4.491780            0.268642          0.231968   \n",
       "...        ...       ...                 ...               ...   \n",
       "9995  4.950159  3.726249            0.238037          0.193131   \n",
       "9996  5.051621  3.256499            0.349543          0.185472   \n",
       "9997  4.789524  2.553392            0.189430          0.164250   \n",
       "9998  4.975425  4.475022            0.293013          0.229782   \n",
       "9999  4.991776  4.016297            0.301724          0.295322   \n",
       "\n",
       "      PI-A-Compensated  APC-A-Compensated  PerCP-Cy5.5-A-Compensated  \\\n",
       "0             0.188352           0.613157                   0.584953   \n",
       "1             0.175614           0.127807                   0.218026   \n",
       "2             0.415069           0.713818                   0.701033   \n",
       "3             0.225900           0.686907                   0.674077   \n",
       "4             0.199751           0.437100                   0.430082   \n",
       "...                ...                ...                        ...   \n",
       "9995          0.168490           0.664011                   0.654417   \n",
       "9996          0.225999           0.402173                   0.370035   \n",
       "9997          0.137550           0.607343                   0.599220   \n",
       "9998          0.267030           0.656510                   0.644372   \n",
       "9999          0.287079           0.677052                   0.676601   \n",
       "\n",
       "      PE-Cy7-A-Compensated        DATE  STATION_label        ward  \n",
       "0                 0.447269  2024-05-24              1  2024-05-s1  \n",
       "1                 0.150366  2024-05-24              1  2024-05-s1  \n",
       "2                 0.579645  2024-05-24              1  2024-05-s1  \n",
       "3                 0.535217  2024-05-24              1  2024-05-s1  \n",
       "4                 0.314453  2024-05-24              1  2024-05-s1  \n",
       "...                    ...         ...            ...         ...  \n",
       "9995              0.516460  2024-11-13              8  2024-11-s8  \n",
       "9996              0.258159  2024-11-13              8  2024-11-s8  \n",
       "9997              0.451029  2024-11-13              8  2024-11-s8  \n",
       "9998              0.506078  2024-11-13              8  2024-11-s8  \n",
       "9999              0.548664  2024-11-13              8  2024-11-s8  \n",
       "\n",
       "[142118 rows x 11 columns]"
      ]
     },
     "execution_count": 38,
     "metadata": {},
     "output_type": "execute_result"
    }
   ],
   "source": [
    "data"
   ]
  },
  {
   "cell_type": "markdown",
   "metadata": {},
   "source": [
    "# GMM-loop実験"
   ]
  },
  {
   "cell_type": "code",
   "execution_count": 18,
   "metadata": {},
   "outputs": [],
   "source": [
    "import GMM_loop\n",
    "\n",
    "result = GMM_loop.experiments(\n",
    "        df = data,\n",
    "        N = 2, # 移動回数\n",
    "        n_components=2, #クラスタ数\n",
    "        save_dir=\"tmp_Dec27\",\n",
    "        alpha=0.5,\n",
    "        random_state_list=[0], # ランダムステート数\n",
    "        is_dummy=True\n",
    "    )\n"
   ]
  },
  {
   "cell_type": "code",
   "execution_count": 39,
   "metadata": {},
   "outputs": [
    {
     "data": {
      "text/plain": [
       "{'X': {0: {0:          FSC-A     BSC-A  FITC-A-Compensated  PE-A-Compensated  \\\n",
       "   0     5.073493  3.304668            0.105070          0.043963   \n",
       "   1     4.863641  3.921896            0.149405          0.125993   \n",
       "   2     5.224467  4.146308            0.404148          0.374117   \n",
       "   3     5.440787  3.621815            0.186992          0.171847   \n",
       "   4     5.434948  4.754410            0.283215          0.225013   \n",
       "   ...        ...       ...                 ...               ...   \n",
       "   9995  5.079512  4.032279            0.271359          0.224602   \n",
       "   9996  5.184933  3.592337            0.373758          0.205101   \n",
       "   9997  4.918877  2.859422            0.222751          0.195721   \n",
       "   9998  5.104778  4.781052            0.326335          0.261252   \n",
       "   9999  5.111208  4.262683            0.336942          0.334442   \n",
       "   \n",
       "         PI-A-Compensated  APC-A-Compensated  PerCP-Cy5.5-A-Compensated  \\\n",
       "   0             0.152858           0.637714                   0.618338   \n",
       "   1             0.164236           0.150606                   0.244813   \n",
       "   2             0.409719           0.737109                   0.727381   \n",
       "   3             0.206613           0.711577                   0.701024   \n",
       "   4             0.201615           0.479613                   0.479791   \n",
       "   ...                ...                ...                        ...   \n",
       "   9995          0.204683           0.710016                   0.703208   \n",
       "   9996          0.251410           0.446122                   0.419018   \n",
       "   9997          0.173742           0.653347                   0.648011   \n",
       "   9998          0.303223           0.702515                   0.693163   \n",
       "   9999          0.329436           0.722458                   0.723772   \n",
       "   \n",
       "         PE-Cy7-A-Compensated  \n",
       "   0                 0.488571  \n",
       "   1                 0.172587  \n",
       "   2                 0.603896  \n",
       "   3                 0.562960  \n",
       "   4                 0.360703  \n",
       "   ...                    ...  \n",
       "   9995              0.560608  \n",
       "   9996              0.302560  \n",
       "   9997              0.495177  \n",
       "   9998              0.550226  \n",
       "   9999              0.591024  \n",
       "   \n",
       "   [142118 rows x 8 columns],\n",
       "   1:          FSC-A     BSC-A  FITC-A-Compensated  PE-A-Compensated  \\\n",
       "   0     5.173018  3.602483            0.101470          0.017704   \n",
       "   1     4.875476  3.961440            0.151011          0.122269   \n",
       "   2     5.252932  4.184214            0.411665          0.375418   \n",
       "   3     5.551178  3.829125            0.196655          0.155694   \n",
       "   4     5.511375  4.960529            0.297307          0.231463   \n",
       "   ...        ...       ...                 ...               ...   \n",
       "   9995  5.210070  4.297804            0.297349          0.234708   \n",
       "   9996  5.297464  3.843877            0.390559          0.209629   \n",
       "   9997  5.049436  3.124947            0.248742          0.205826   \n",
       "   9998  5.235336  5.046577            0.352325          0.271358   \n",
       "   9999  5.231766  4.475340            0.365317          0.353586   \n",
       "   \n",
       "         PI-A-Compensated  APC-A-Compensated  PerCP-Cy5.5-A-Compensated  \\\n",
       "   0             0.136103           0.651786                   0.640045   \n",
       "   1             0.161426           0.164545                   0.261452   \n",
       "   2             0.412931           0.751924                   0.744116   \n",
       "   3             0.199136           0.731015                   0.722327   \n",
       "   4             0.213040           0.512282                   0.518283   \n",
       "   ...                ...                ...                        ...   \n",
       "   9995          0.222380           0.754313                   0.750477   \n",
       "   9996          0.262552           0.482482                   0.459442   \n",
       "   9997          0.191439           0.697645                   0.695280   \n",
       "   9998          0.320920           0.746812                   0.740432   \n",
       "   9999          0.354455           0.766126                   0.769417   \n",
       "   \n",
       "         PE-Cy7-A-Compensated  \n",
       "   0                 0.517585  \n",
       "   1                 0.185339  \n",
       "   2                 0.618973  \n",
       "   3                 0.585972  \n",
       "   4                 0.396136  \n",
       "   ...                    ...  \n",
       "   9995              0.604880  \n",
       "   9996              0.340411  \n",
       "   9997              0.539449  \n",
       "   9998              0.594498  \n",
       "   9999              0.633312  \n",
       "   \n",
       "   [142118 rows x 8 columns]}},\n",
       " 'diff': {0: {0:                FSC-A     BSC-A  FITC-A-Compensated  PE-A-Compensated  \\\n",
       "   2024-05-s1  0.007916  0.059618           -0.018214         -0.023683   \n",
       "   2024-05-s4  0.126269  0.302656            0.041777          0.029831   \n",
       "   2024-05-s8  0.098620  0.273437            0.033764          0.005771   \n",
       "   2024-06-s1  0.069760  0.055150            0.007829          0.015171   \n",
       "   2024-06-s4  0.088620  0.099533            0.003857          0.013756   \n",
       "   2024-06-s8 -0.029166 -0.028815           -0.004354         -0.003520   \n",
       "   2024-07-s1 -0.246598 -0.612443           -0.040199         -0.030597   \n",
       "   2024-07-s4 -0.171845 -0.484008           -0.028288         -0.012949   \n",
       "   2024-07-s8 -0.125373 -0.291453           -0.018148         -0.028399   \n",
       "   2024-08-s1 -0.019906  0.052029            0.021644          0.054118   \n",
       "   2024-08-s4 -0.032253  0.004880            0.014365          0.065183   \n",
       "   2024-08-s8 -0.033450  0.014057           -0.012304         -0.009967   \n",
       "   2024-11-s1  0.024667  0.189349           -0.021464         -0.032819   \n",
       "   2024-11-s4 -0.019843 -0.119287            0.003792          0.015299   \n",
       "   2024-11-s8 -0.021384  0.026124           -0.003864          0.000867   \n",
       "   \n",
       "               PI-A-Compensated  APC-A-Compensated  PerCP-Cy5.5-A-Compensated  \\\n",
       "   2024-05-s1         -0.021562          -0.004112                   0.000384   \n",
       "   2024-05-s4          0.039070           0.051304                   0.056686   \n",
       "   2024-05-s8          0.017457           0.045141                   0.050140   \n",
       "   2024-06-s1          0.013189           0.014150                   0.017191   \n",
       "   2024-06-s4          0.012842           0.007211                  -0.000873   \n",
       "   2024-06-s8         -0.005565          -0.024388                  -0.028224   \n",
       "   2024-07-s1         -0.043518          -0.081554                  -0.097231   \n",
       "   2024-07-s4         -0.025418          -0.042722                  -0.053258   \n",
       "   2024-07-s8         -0.031238          -0.024178                  -0.026391   \n",
       "   2024-08-s1          0.048796           0.012284                   0.016420   \n",
       "   2024-08-s4          0.053548          -0.002967                  -0.003033   \n",
       "   2024-08-s8         -0.012059          -0.000985                   0.000879   \n",
       "   2024-11-s1         -0.025920          -0.023631                  -0.016228   \n",
       "   2024-11-s4          0.012330          -0.001198                  -0.003241   \n",
       "   2024-11-s8          0.001057           0.001916                   0.004662   \n",
       "   \n",
       "               PE-Cy7-A-Compensated  \n",
       "   2024-05-s1              0.000507  \n",
       "   2024-05-s4              0.062009  \n",
       "   2024-05-s8              0.054453  \n",
       "   2024-06-s1              0.008654  \n",
       "   2024-06-s4             -0.003023  \n",
       "   2024-06-s8             -0.028103  \n",
       "   2024-07-s1             -0.092972  \n",
       "   2024-07-s4             -0.063068  \n",
       "   2024-07-s8             -0.028680  \n",
       "   2024-08-s1              0.012970  \n",
       "   2024-08-s4             -0.006407  \n",
       "   2024-08-s8             -0.004059  \n",
       "   2024-11-s1              0.003074  \n",
       "   2024-11-s4             -0.003576  \n",
       "   2024-11-s8              0.004631  ,\n",
       "   1:                FSC-A     BSC-A  FITC-A-Compensated  PE-A-Compensated  \\\n",
       "   2024-05-s1 -0.036054 -0.027971           -0.018378         -0.011154   \n",
       "   2024-05-s4  0.147467  0.331359            0.036916          0.011276   \n",
       "   2024-05-s8  0.105654  0.309277            0.035238          0.012488   \n",
       "   2024-06-s1  0.077797  0.087237            0.008702          0.015889   \n",
       "   2024-06-s4  0.099732  0.093917            0.000037         -0.005974   \n",
       "   2024-06-s8  0.012457  0.016171           -0.004431         -0.016449   \n",
       "   2024-07-s1 -0.232623 -0.563328           -0.036173         -0.021889   \n",
       "   2024-07-s4 -0.158730 -0.450537           -0.023874         -0.009804   \n",
       "   2024-07-s8 -0.107244 -0.286146           -0.020567         -0.038383   \n",
       "   2024-08-s1 -0.022210  0.010516            0.016247          0.038804   \n",
       "   2024-08-s4 -0.044149 -0.036490            0.011842          0.056840   \n",
       "   2024-08-s8 -0.033261  0.003275           -0.011821         -0.010048   \n",
       "   2024-11-s1  0.023988  0.193907           -0.019135         -0.026613   \n",
       "   2024-11-s4 -0.020002 -0.105737            0.004770          0.018077   \n",
       "   2024-11-s8 -0.021146  0.026102           -0.003131          0.002794   \n",
       "   \n",
       "               PI-A-Compensated  APC-A-Compensated  PerCP-Cy5.5-A-Compensated  \\\n",
       "   2024-05-s1         -0.013112          -0.015875                  -0.013691   \n",
       "   2024-05-s4          0.023580           0.054568                   0.061352   \n",
       "   2024-05-s8          0.023428           0.046504                   0.052029   \n",
       "   2024-06-s1          0.014651           0.017333                   0.021061   \n",
       "   2024-06-s4         -0.003442           0.008626                   0.001811   \n",
       "   2024-06-s8         -0.014485          -0.015345                  -0.018236   \n",
       "   2024-07-s1         -0.034953          -0.075174                  -0.089828   \n",
       "   2024-07-s4         -0.021665          -0.037431                  -0.047829   \n",
       "   2024-07-s8         -0.039180          -0.023039                  -0.025358   \n",
       "   2024-08-s1          0.035360           0.012868                   0.016334   \n",
       "   2024-08-s4          0.046072          -0.001553                  -0.002014   \n",
       "   2024-08-s8         -0.012042          -0.001751                  -0.000193   \n",
       "   2024-11-s1         -0.020999          -0.024323                  -0.017234   \n",
       "   2024-11-s4          0.014643          -0.001260                  -0.003247   \n",
       "   2024-11-s8          0.002613           0.001632                   0.004203   \n",
       "   \n",
       "               PE-Cy7-A-Compensated  \n",
       "   2024-05-s1             -0.012844  \n",
       "   2024-05-s4              0.065795  \n",
       "   2024-05-s8              0.055972  \n",
       "   2024-06-s1              0.012844  \n",
       "   2024-06-s4              0.000525  \n",
       "   2024-06-s8             -0.016384  \n",
       "   2024-07-s1             -0.086555  \n",
       "   2024-07-s4             -0.058214  \n",
       "   2024-07-s8             -0.026083  \n",
       "   2024-08-s1              0.013104  \n",
       "   2024-08-s4             -0.006173  \n",
       "   2024-08-s8             -0.004648  \n",
       "   2024-11-s1              0.000267  \n",
       "   2024-11-s4             -0.003969  \n",
       "   2024-11-s8              0.003955  }},\n",
       " 'cluster': {0: {0: 0       1\n",
       "   1       0\n",
       "   2       1\n",
       "   3       1\n",
       "   4       0\n",
       "          ..\n",
       "   9995    1\n",
       "   9996    0\n",
       "   9997    1\n",
       "   9998    1\n",
       "   9999    1\n",
       "   Name: cluster, Length: 142118, dtype: int64,\n",
       "   1: 0       0\n",
       "   1       1\n",
       "   2       0\n",
       "   3       0\n",
       "   4       1\n",
       "          ..\n",
       "   9995    0\n",
       "   9996    1\n",
       "   9997    0\n",
       "   9998    0\n",
       "   9999    0\n",
       "   Name: cluster, Length: 142118, dtype: int64}}}"
      ]
     },
     "execution_count": 39,
     "metadata": {},
     "output_type": "execute_result"
    }
   ],
   "source": [
    "result"
   ]
  },
  {
   "cell_type": "code",
   "execution_count": 34,
   "metadata": {},
   "outputs": [
    {
     "data": {
      "text/plain": [
       "dict_keys([0, 1])"
      ]
     },
     "execution_count": 34,
     "metadata": {},
     "output_type": "execute_result"
    }
   ],
   "source": [
    "result[\"diff\"][0].keys()"
   ]
  },
  {
   "cell_type": "code",
   "execution_count": 36,
   "metadata": {},
   "outputs": [],
   "source": [
    "random_states = [0]\n",
    "loops = [0, 1]\n",
    "for random_state in random_states:\n",
    "    for loop in loops:\n",
    "        result[\"X\"][random_state][loop].to_csv(\n",
    "            f\"tmp_{random_state}_{loop}.csv.gz\",\n",
    "            compression=\"gzip\"\n",
    "        )"
   ]
  },
  {
   "cell_type": "code",
   "execution_count": null,
   "metadata": {},
   "outputs": [],
   "source": []
  },
  {
   "cell_type": "code",
   "execution_count": 37,
   "metadata": {},
   "outputs": [
    {
     "data": {
      "text/plain": [
       "{0: {0: 0       1\n",
       "  1       0\n",
       "  2       1\n",
       "  3       1\n",
       "  4       0\n",
       "         ..\n",
       "  9995    1\n",
       "  9996    0\n",
       "  9997    1\n",
       "  9998    1\n",
       "  9999    1\n",
       "  Name: cluster, Length: 142118, dtype: int64,\n",
       "  1: 0       0\n",
       "  1       1\n",
       "  2       0\n",
       "  3       0\n",
       "  4       1\n",
       "         ..\n",
       "  9995    0\n",
       "  9996    1\n",
       "  9997    0\n",
       "  9998    0\n",
       "  9999    0\n",
       "  Name: cluster, Length: 142118, dtype: int64}}"
      ]
     },
     "execution_count": 37,
     "metadata": {},
     "output_type": "execute_result"
    }
   ],
   "source": [
    "result[\"cluster\"]"
   ]
  },
  {
   "cell_type": "code",
   "execution_count": 43,
   "metadata": {},
   "outputs": [
    {
     "data": {
      "text/plain": [
       "0       0\n",
       "1       1\n",
       "2       0\n",
       "3       0\n",
       "4       1\n",
       "       ..\n",
       "9995    0\n",
       "9996    1\n",
       "9997    0\n",
       "9998    0\n",
       "9999    0\n",
       "Name: cluster, Length: 142118, dtype: int64"
      ]
     },
     "execution_count": 43,
     "metadata": {},
     "output_type": "execute_result"
    }
   ],
   "source": [
    "result[\"cluster\"][0][1]"
   ]
  },
  {
   "cell_type": "code",
   "execution_count": 44,
   "metadata": {},
   "outputs": [
    {
     "data": {
      "application/vnd.plotly.v1+json": {
       "config": {
        "plotlyServerURL": "https://plot.ly"
       },
       "data": [
        {
         "link": {
          "source": [
           2,
           2,
           3,
           3
          ],
          "target": [
           0,
           1,
           0,
           1
          ],
          "value": [
           308,
           76865,
           64279,
           666
          ]
         },
         "node": {
          "color": "blue",
          "label": [
           "A-0",
           "A-1",
           "B-0",
           "B-1"
          ],
          "line": {
           "color": "black",
           "width": 0.5
          },
          "pad": 10,
          "thickness": 100
         },
         "type": "sankey"
        }
       ],
       "layout": {
        "font": {
         "size": 25
        },
        "height": 1000,
        "template": {
         "data": {
          "bar": [
           {
            "error_x": {
             "color": "#2a3f5f"
            },
            "error_y": {
             "color": "#2a3f5f"
            },
            "marker": {
             "line": {
              "color": "#E5ECF6",
              "width": 0.5
             },
             "pattern": {
              "fillmode": "overlay",
              "size": 10,
              "solidity": 0.2
             }
            },
            "type": "bar"
           }
          ],
          "barpolar": [
           {
            "marker": {
             "line": {
              "color": "#E5ECF6",
              "width": 0.5
             },
             "pattern": {
              "fillmode": "overlay",
              "size": 10,
              "solidity": 0.2
             }
            },
            "type": "barpolar"
           }
          ],
          "carpet": [
           {
            "aaxis": {
             "endlinecolor": "#2a3f5f",
             "gridcolor": "white",
             "linecolor": "white",
             "minorgridcolor": "white",
             "startlinecolor": "#2a3f5f"
            },
            "baxis": {
             "endlinecolor": "#2a3f5f",
             "gridcolor": "white",
             "linecolor": "white",
             "minorgridcolor": "white",
             "startlinecolor": "#2a3f5f"
            },
            "type": "carpet"
           }
          ],
          "choropleth": [
           {
            "colorbar": {
             "outlinewidth": 0,
             "ticks": ""
            },
            "type": "choropleth"
           }
          ],
          "contour": [
           {
            "colorbar": {
             "outlinewidth": 0,
             "ticks": ""
            },
            "colorscale": [
             [
              0,
              "#0d0887"
             ],
             [
              0.1111111111111111,
              "#46039f"
             ],
             [
              0.2222222222222222,
              "#7201a8"
             ],
             [
              0.3333333333333333,
              "#9c179e"
             ],
             [
              0.4444444444444444,
              "#bd3786"
             ],
             [
              0.5555555555555556,
              "#d8576b"
             ],
             [
              0.6666666666666666,
              "#ed7953"
             ],
             [
              0.7777777777777778,
              "#fb9f3a"
             ],
             [
              0.8888888888888888,
              "#fdca26"
             ],
             [
              1,
              "#f0f921"
             ]
            ],
            "type": "contour"
           }
          ],
          "contourcarpet": [
           {
            "colorbar": {
             "outlinewidth": 0,
             "ticks": ""
            },
            "type": "contourcarpet"
           }
          ],
          "heatmap": [
           {
            "colorbar": {
             "outlinewidth": 0,
             "ticks": ""
            },
            "colorscale": [
             [
              0,
              "#0d0887"
             ],
             [
              0.1111111111111111,
              "#46039f"
             ],
             [
              0.2222222222222222,
              "#7201a8"
             ],
             [
              0.3333333333333333,
              "#9c179e"
             ],
             [
              0.4444444444444444,
              "#bd3786"
             ],
             [
              0.5555555555555556,
              "#d8576b"
             ],
             [
              0.6666666666666666,
              "#ed7953"
             ],
             [
              0.7777777777777778,
              "#fb9f3a"
             ],
             [
              0.8888888888888888,
              "#fdca26"
             ],
             [
              1,
              "#f0f921"
             ]
            ],
            "type": "heatmap"
           }
          ],
          "heatmapgl": [
           {
            "colorbar": {
             "outlinewidth": 0,
             "ticks": ""
            },
            "colorscale": [
             [
              0,
              "#0d0887"
             ],
             [
              0.1111111111111111,
              "#46039f"
             ],
             [
              0.2222222222222222,
              "#7201a8"
             ],
             [
              0.3333333333333333,
              "#9c179e"
             ],
             [
              0.4444444444444444,
              "#bd3786"
             ],
             [
              0.5555555555555556,
              "#d8576b"
             ],
             [
              0.6666666666666666,
              "#ed7953"
             ],
             [
              0.7777777777777778,
              "#fb9f3a"
             ],
             [
              0.8888888888888888,
              "#fdca26"
             ],
             [
              1,
              "#f0f921"
             ]
            ],
            "type": "heatmapgl"
           }
          ],
          "histogram": [
           {
            "marker": {
             "pattern": {
              "fillmode": "overlay",
              "size": 10,
              "solidity": 0.2
             }
            },
            "type": "histogram"
           }
          ],
          "histogram2d": [
           {
            "colorbar": {
             "outlinewidth": 0,
             "ticks": ""
            },
            "colorscale": [
             [
              0,
              "#0d0887"
             ],
             [
              0.1111111111111111,
              "#46039f"
             ],
             [
              0.2222222222222222,
              "#7201a8"
             ],
             [
              0.3333333333333333,
              "#9c179e"
             ],
             [
              0.4444444444444444,
              "#bd3786"
             ],
             [
              0.5555555555555556,
              "#d8576b"
             ],
             [
              0.6666666666666666,
              "#ed7953"
             ],
             [
              0.7777777777777778,
              "#fb9f3a"
             ],
             [
              0.8888888888888888,
              "#fdca26"
             ],
             [
              1,
              "#f0f921"
             ]
            ],
            "type": "histogram2d"
           }
          ],
          "histogram2dcontour": [
           {
            "colorbar": {
             "outlinewidth": 0,
             "ticks": ""
            },
            "colorscale": [
             [
              0,
              "#0d0887"
             ],
             [
              0.1111111111111111,
              "#46039f"
             ],
             [
              0.2222222222222222,
              "#7201a8"
             ],
             [
              0.3333333333333333,
              "#9c179e"
             ],
             [
              0.4444444444444444,
              "#bd3786"
             ],
             [
              0.5555555555555556,
              "#d8576b"
             ],
             [
              0.6666666666666666,
              "#ed7953"
             ],
             [
              0.7777777777777778,
              "#fb9f3a"
             ],
             [
              0.8888888888888888,
              "#fdca26"
             ],
             [
              1,
              "#f0f921"
             ]
            ],
            "type": "histogram2dcontour"
           }
          ],
          "mesh3d": [
           {
            "colorbar": {
             "outlinewidth": 0,
             "ticks": ""
            },
            "type": "mesh3d"
           }
          ],
          "parcoords": [
           {
            "line": {
             "colorbar": {
              "outlinewidth": 0,
              "ticks": ""
             }
            },
            "type": "parcoords"
           }
          ],
          "pie": [
           {
            "automargin": true,
            "type": "pie"
           }
          ],
          "scatter": [
           {
            "fillpattern": {
             "fillmode": "overlay",
             "size": 10,
             "solidity": 0.2
            },
            "type": "scatter"
           }
          ],
          "scatter3d": [
           {
            "line": {
             "colorbar": {
              "outlinewidth": 0,
              "ticks": ""
             }
            },
            "marker": {
             "colorbar": {
              "outlinewidth": 0,
              "ticks": ""
             }
            },
            "type": "scatter3d"
           }
          ],
          "scattercarpet": [
           {
            "marker": {
             "colorbar": {
              "outlinewidth": 0,
              "ticks": ""
             }
            },
            "type": "scattercarpet"
           }
          ],
          "scattergeo": [
           {
            "marker": {
             "colorbar": {
              "outlinewidth": 0,
              "ticks": ""
             }
            },
            "type": "scattergeo"
           }
          ],
          "scattergl": [
           {
            "marker": {
             "colorbar": {
              "outlinewidth": 0,
              "ticks": ""
             }
            },
            "type": "scattergl"
           }
          ],
          "scattermapbox": [
           {
            "marker": {
             "colorbar": {
              "outlinewidth": 0,
              "ticks": ""
             }
            },
            "type": "scattermapbox"
           }
          ],
          "scatterpolar": [
           {
            "marker": {
             "colorbar": {
              "outlinewidth": 0,
              "ticks": ""
             }
            },
            "type": "scatterpolar"
           }
          ],
          "scatterpolargl": [
           {
            "marker": {
             "colorbar": {
              "outlinewidth": 0,
              "ticks": ""
             }
            },
            "type": "scatterpolargl"
           }
          ],
          "scatterternary": [
           {
            "marker": {
             "colorbar": {
              "outlinewidth": 0,
              "ticks": ""
             }
            },
            "type": "scatterternary"
           }
          ],
          "surface": [
           {
            "colorbar": {
             "outlinewidth": 0,
             "ticks": ""
            },
            "colorscale": [
             [
              0,
              "#0d0887"
             ],
             [
              0.1111111111111111,
              "#46039f"
             ],
             [
              0.2222222222222222,
              "#7201a8"
             ],
             [
              0.3333333333333333,
              "#9c179e"
             ],
             [
              0.4444444444444444,
              "#bd3786"
             ],
             [
              0.5555555555555556,
              "#d8576b"
             ],
             [
              0.6666666666666666,
              "#ed7953"
             ],
             [
              0.7777777777777778,
              "#fb9f3a"
             ],
             [
              0.8888888888888888,
              "#fdca26"
             ],
             [
              1,
              "#f0f921"
             ]
            ],
            "type": "surface"
           }
          ],
          "table": [
           {
            "cells": {
             "fill": {
              "color": "#EBF0F8"
             },
             "line": {
              "color": "white"
             }
            },
            "header": {
             "fill": {
              "color": "#C8D4E3"
             },
             "line": {
              "color": "white"
             }
            },
            "type": "table"
           }
          ]
         },
         "layout": {
          "annotationdefaults": {
           "arrowcolor": "#2a3f5f",
           "arrowhead": 0,
           "arrowwidth": 1
          },
          "autotypenumbers": "strict",
          "coloraxis": {
           "colorbar": {
            "outlinewidth": 0,
            "ticks": ""
           }
          },
          "colorscale": {
           "diverging": [
            [
             0,
             "#8e0152"
            ],
            [
             0.1,
             "#c51b7d"
            ],
            [
             0.2,
             "#de77ae"
            ],
            [
             0.3,
             "#f1b6da"
            ],
            [
             0.4,
             "#fde0ef"
            ],
            [
             0.5,
             "#f7f7f7"
            ],
            [
             0.6,
             "#e6f5d0"
            ],
            [
             0.7,
             "#b8e186"
            ],
            [
             0.8,
             "#7fbc41"
            ],
            [
             0.9,
             "#4d9221"
            ],
            [
             1,
             "#276419"
            ]
           ],
           "sequential": [
            [
             0,
             "#0d0887"
            ],
            [
             0.1111111111111111,
             "#46039f"
            ],
            [
             0.2222222222222222,
             "#7201a8"
            ],
            [
             0.3333333333333333,
             "#9c179e"
            ],
            [
             0.4444444444444444,
             "#bd3786"
            ],
            [
             0.5555555555555556,
             "#d8576b"
            ],
            [
             0.6666666666666666,
             "#ed7953"
            ],
            [
             0.7777777777777778,
             "#fb9f3a"
            ],
            [
             0.8888888888888888,
             "#fdca26"
            ],
            [
             1,
             "#f0f921"
            ]
           ],
           "sequentialminus": [
            [
             0,
             "#0d0887"
            ],
            [
             0.1111111111111111,
             "#46039f"
            ],
            [
             0.2222222222222222,
             "#7201a8"
            ],
            [
             0.3333333333333333,
             "#9c179e"
            ],
            [
             0.4444444444444444,
             "#bd3786"
            ],
            [
             0.5555555555555556,
             "#d8576b"
            ],
            [
             0.6666666666666666,
             "#ed7953"
            ],
            [
             0.7777777777777778,
             "#fb9f3a"
            ],
            [
             0.8888888888888888,
             "#fdca26"
            ],
            [
             1,
             "#f0f921"
            ]
           ]
          },
          "colorway": [
           "#636efa",
           "#EF553B",
           "#00cc96",
           "#ab63fa",
           "#FFA15A",
           "#19d3f3",
           "#FF6692",
           "#B6E880",
           "#FF97FF",
           "#FECB52"
          ],
          "font": {
           "color": "#2a3f5f"
          },
          "geo": {
           "bgcolor": "white",
           "lakecolor": "white",
           "landcolor": "#E5ECF6",
           "showlakes": true,
           "showland": true,
           "subunitcolor": "white"
          },
          "hoverlabel": {
           "align": "left"
          },
          "hovermode": "closest",
          "mapbox": {
           "style": "light"
          },
          "paper_bgcolor": "white",
          "plot_bgcolor": "#E5ECF6",
          "polar": {
           "angularaxis": {
            "gridcolor": "white",
            "linecolor": "white",
            "ticks": ""
           },
           "bgcolor": "#E5ECF6",
           "radialaxis": {
            "gridcolor": "white",
            "linecolor": "white",
            "ticks": ""
           }
          },
          "scene": {
           "xaxis": {
            "backgroundcolor": "#E5ECF6",
            "gridcolor": "white",
            "gridwidth": 2,
            "linecolor": "white",
            "showbackground": true,
            "ticks": "",
            "zerolinecolor": "white"
           },
           "yaxis": {
            "backgroundcolor": "#E5ECF6",
            "gridcolor": "white",
            "gridwidth": 2,
            "linecolor": "white",
            "showbackground": true,
            "ticks": "",
            "zerolinecolor": "white"
           },
           "zaxis": {
            "backgroundcolor": "#E5ECF6",
            "gridcolor": "white",
            "gridwidth": 2,
            "linecolor": "white",
            "showbackground": true,
            "ticks": "",
            "zerolinecolor": "white"
           }
          },
          "shapedefaults": {
           "line": {
            "color": "#2a3f5f"
           }
          },
          "ternary": {
           "aaxis": {
            "gridcolor": "white",
            "linecolor": "white",
            "ticks": ""
           },
           "baxis": {
            "gridcolor": "white",
            "linecolor": "white",
            "ticks": ""
           },
           "bgcolor": "#E5ECF6",
           "caxis": {
            "gridcolor": "white",
            "linecolor": "white",
            "ticks": ""
           }
          },
          "title": {
           "x": 0.05
          },
          "xaxis": {
           "automargin": true,
           "gridcolor": "white",
           "linecolor": "white",
           "ticks": "",
           "title": {
            "standoff": 15
           },
           "zerolinecolor": "white",
           "zerolinewidth": 2
          },
          "yaxis": {
           "automargin": true,
           "gridcolor": "white",
           "linecolor": "white",
           "ticks": "",
           "title": {
            "standoff": 15
           },
           "zerolinecolor": "white",
           "zerolinewidth": 2
          }
         }
        },
        "title": {
         "text": "Basic Sankey Diagram"
        },
        "width": 1500
       }
      }
     },
     "metadata": {},
     "output_type": "display_data"
    }
   ],
   "source": [
    "import p03_GMM_vis\n",
    "\n",
    "p03_GMM_vis.Sankey_diagram(\n",
    "    result[\"cluster\"][0][0],\n",
    "    result[\"cluster\"][0][1]\n",
    ")"
   ]
  },
  {
   "cell_type": "code",
   "execution_count": 45,
   "metadata": {},
   "outputs": [
    {
     "data": {
      "image/png": "[encoded data removed]",
      "text/plain": [
       "<Figure size 640x480 with 1 Axes>"
      ]
     },
     "metadata": {},
     "output_type": "display_data"
    }
   ],
   "source": [
    "p03_GMM_vis.Absolute_distance(diff_dict=result[\"diff\"][0])"
   ]
  },
  {
   "cell_type": "code",
   "execution_count": 46,
   "metadata": {},
   "outputs": [
    {
     "data": {
      "image/png": "[encoded data removed]",
      "text/plain": [
       "<Figure size 640x480 with 1 Axes>"
      ]
     },
     "metadata": {},
     "output_type": "display_data"
    },
    {
     "data": {
      "image/png": "[encoded data removed]",
      "text/plain": [
       "<Figure size 640x480 with 1 Axes>"
      ]
     },
     "metadata": {},
     "output_type": "display_data"
    }
   ],
   "source": [
    "p03_GMM_vis.System_error(diff_dict=result[\"diff\"][0])"
   ]
  }
 ],
 "metadata": {
  "kernelspec": {
   "display_name": "Python 3",
   "language": "python",
   "name": "python3"
  },
  "language_info": {
   "codemirror_mode": {
    "name": "ipython",
    "version": 3
   },
   "file_extension": ".py",
   "mimetype": "text/x-python",
   "name": "python",
   "nbconvert_exporter": "python",
   "pygments_lexer": "ipython3",
   "version": "3.9.6"
  }
 },
 "nbformat": 4,
 "nbformat_minor": 2
}
